{
  "nbformat": 4,
  "nbformat_minor": 0,
  "metadata": {
    "colab": {
      "name": "key_identification.ipynb",
      "provenance": []
    },
    "kernelspec": {
      "name": "python3",
      "display_name": "Python 3"
    },
    "language_info": {
      "name": "python"
    }
  },
  "cells": [
    {
      "cell_type": "code",
      "execution_count": 4,
      "metadata": {
        "colab": {
          "base_uri": "https://localhost:8080/",
          "height": 333
        },
        "id": "CX1ScHQ5xXJF",
        "outputId": "1f1bbdbc-ad8f-4381-b247-cec216d7120d"
      },
      "outputs": [
        {
          "output_type": "stream",
          "name": "stdout",
          "text": [
            "(256, 256)\n",
            "193\n",
            "18.84765625 %\n"
          ]
        },
        {
          "output_type": "display_data",
          "data": {
            "text/plain": [
              "<Figure size 432x288 with 1 Axes>"
            ],
            "image/png": "[encoded data removed]"
          },
          "metadata": {
            "needs_background": "light"
          }
        }
      ],
      "source": [
        "import cv2\n",
        "from matplotlib import pyplot as plt\n",
        "from numpy import r_\n",
        "import numpy as np\n",
        "\n",
        "img_grey = cv2.imread('watermark.png', cv2.IMREAD_GRAYSCALE)\n",
        "thresh = 128\n",
        "binary_watermark = cv2.threshold(img_grey, thresh, 255, cv2.THRESH_BINARY)[1]\n",
        "plt.figure()\n",
        "plt.imshow(binary_watermark,cmap='gray')\n",
        "print(binary_watermark.shape)\n",
        "plt.title( \"Watermark\")\n",
        "\n",
        "def key_similarity(binary_watermark):\n",
        "  imsize = binary_watermark.shape\n",
        "  num=0\n",
        "  count=0\n",
        "  for i in r_[:imsize[0]:8]:\n",
        "      for j in r_[:imsize[1]:8]:\n",
        "          v=binary_watermark[i:(i+8),j:(j+8)]\n",
        "          if(np.count_nonzero(v)>=1):\n",
        "            num=num+1\n",
        "  return num\n",
        "print(key_similarity(binary_watermark))\n",
        "\n",
        "#the key contains 1024 groups of 3 elements and we can fetch 193 groups each of 3 elements\n",
        "percentage_fetched=(key_similarity(binary_watermark)*3)/(1024*3)\n",
        "print(percentage_fetched*100,\"%\")\n"
      ]
    }
  ]
}