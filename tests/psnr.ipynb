{
 "cells": [
  {
   "cell_type": "code",
   "execution_count": 1,
   "id": "595c2f71",
   "metadata": {},
   "outputs": [
    {
     "name": "stdout",
     "output_type": "stream",
     "text": [
      "255\n",
      "PSNR value is 40.705974571992314 dB\n"
     ]
    }
   ],
   "source": [
    "from math import log10, sqrt\n",
    "import cv2\n",
    "import numpy as np\n",
    "\n",
    "def PSNR(original, compressed):\n",
    "\tmse = np.mean((original - compressed) ** 2)\n",
    "\tif(mse == 0): # MSE is zero means no noise is present in the signal .\n",
    "\t\t\t\t# Therefore PSNR have no importance.\n",
    "\t\treturn 100\n",
    "    \n",
    "\tmax_pixel=255\n",
    "\tprint(max_pixel)\n",
    "\tpsnr = 20 * log10(max_pixel / sqrt(mse))\n",
    "\treturn psnr\n",
    "\n",
    "def main():\n",
    "\toriginal = cv2.imread(\"hostY.png\")\n",
    "\tcompressed = cv2.imread(\"Watermarked.png\", 1) \n",
    "\tvalue = PSNR(original, compressed)\n",
    "\tprint(f\"PSNR value is {value} dB\")\n",
    "\t\n",
    "if __name__ == \"__main__\":\n",
    "\tmain()"
   ]
  },
  {
   "cell_type": "code",
   "execution_count": 15,
   "id": "f1348cd7",
   "metadata": {},
   "outputs": [
    {
     "name": "stdout",
     "output_type": "stream",
     "text": [
      "56.268\n"
     ]
    }
   ],
   "source": [
    "import numpy as np\n",
    "import cv2\n",
    "from math import log10,sqrt\n",
    "\n",
    "original=cv2.imread(\"Watermarked.png\")\n",
    "compressed=cv2.imread(\"Watermarked_modified.png\")\n",
    "o=original[:,:,0]\n",
    "c=compressed[:,:,0]\n",
    "mse=np.mean((o-c)**2)\n",
    "max_pixel=255\n",
    "psnr=20*log10(max_pixel/sqrt(mse))\n",
    "psnr=cv2.PSNR(o,c)\n",
    "print(round(psnr,3))"
   ]
  },
  {
   "cell_type": "code",
   "execution_count": null,
   "id": "7dc34940",
   "metadata": {},
   "outputs": [],
   "source": []
  },
  {
   "cell_type": "code",
   "execution_count": null,
   "id": "e010e917",
   "metadata": {},
   "outputs": [],
   "source": []
  }
 ],
 "metadata": {
  "kernelspec": {
   "display_name": "Python 3 (ipykernel)",
   "language": "python",
   "name": "python3"
  },
  "language_info": {
   "codemirror_mode": {
    "name": "ipython",
    "version": 3
   },
   "file_extension": ".py",
   "mimetype": "text/x-python",
   "name": "python",
   "nbconvert_exporter": "python",
   "pygments_lexer": "ipython3",
   "version": "3.9.6"
  }
 },
 "nbformat": 4,
 "nbformat_minor": 5
}
